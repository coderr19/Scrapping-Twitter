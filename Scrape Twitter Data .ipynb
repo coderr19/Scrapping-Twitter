{
 "cells": [
  {
   "cell_type": "code",
   "execution_count": 33,
   "id": "cc9e061f",
   "metadata": {},
   "outputs": [],
   "source": [
    "import snscrape.modules.twitter as sntwitter\n",
    "import pandas as pd"
   ]
  },
  {
   "cell_type": "markdown",
   "id": "ea676dc2",
   "metadata": {},
   "source": [
    " Specify the Twitter search query and number of tweets to retrieve"
   ]
  },
  {
   "cell_type": "code",
   "execution_count": 34,
   "id": "32904f24",
   "metadata": {},
   "outputs": [],
   "source": [
    "query = \"java\"\n",
    "num_tweets = 100"
   ]
  },
  {
   "cell_type": "markdown",
   "id": "e7ff9e43",
   "metadata": {},
   "source": [
    "Create a list to store the tweets"
   ]
  },
  {
   "cell_type": "code",
   "execution_count": 35,
   "id": "1dd369f1",
   "metadata": {},
   "outputs": [],
   "source": [
    "tweets = []"
   ]
  },
  {
   "cell_type": "markdown",
   "id": "d006a873",
   "metadata": {},
   "source": [
    "Using the snscrape library to scrape 100 tweets containing the keyword \"java\" from Twitter. The scraped tweets are then stored in a list called tweets, which contains a tuple of four elements for each tweet: the tweet's date, content, username, and number of likes."
   ]
  },
  {
   "cell_type": "code",
   "execution_count": 36,
   "id": "78030837",
   "metadata": {},
   "outputs": [],
   "source": [
    "for i, tweet in enumerate(sntwitter.TwitterSearchScraper(query).get_items()):\n",
    "    if i >= num_tweets:\n",
    "        break\n",
    "    tweets.append((tweet.date, tweet.rawContent, tweet.user.username, tweet.likeCount))"
   ]
  },
  {
   "cell_type": "markdown",
   "id": "c32160a9",
   "metadata": {},
   "source": [
    "Use a dataframe, it helps to oragnize the data and it's really easy to read"
   ]
  },
  {
   "cell_type": "code",
   "execution_count": 37,
   "id": "6f8a2999",
   "metadata": {
    "scrolled": true
   },
   "outputs": [
    {
     "data": {
      "text/html": [
       "<div>\n",
       "<style scoped>\n",
       "    .dataframe tbody tr th:only-of-type {\n",
       "        vertical-align: middle;\n",
       "    }\n",
       "\n",
       "    .dataframe tbody tr th {\n",
       "        vertical-align: top;\n",
       "    }\n",
       "\n",
       "    .dataframe thead th {\n",
       "        text-align: right;\n",
       "    }\n",
       "</style>\n",
       "<table border=\"1\" class=\"dataframe\">\n",
       "  <thead>\n",
       "    <tr style=\"text-align: right;\">\n",
       "      <th></th>\n",
       "      <th>Date</th>\n",
       "      <th>Content</th>\n",
       "      <th>Username</th>\n",
       "      <th>Like Count</th>\n",
       "    </tr>\n",
       "  </thead>\n",
       "  <tbody>\n",
       "    <tr>\n",
       "      <th>0</th>\n",
       "      <td>2023-03-28 18:40:49+00:00</td>\n",
       "      <td>Here is your Tuesday update of the best job li...</td>\n",
       "      <td>onesa10</td>\n",
       "      <td>0</td>\n",
       "    </tr>\n",
       "    <tr>\n",
       "      <th>1</th>\n",
       "      <td>2023-03-28 18:40:16+00:00</td>\n",
       "      <td>@unspinthespina1 they are even back tracking now</td>\n",
       "      <td>WakeUpToJava</td>\n",
       "      <td>0</td>\n",
       "    </tr>\n",
       "    <tr>\n",
       "      <th>2</th>\n",
       "      <td>2023-03-28 18:40:15+00:00</td>\n",
       "      <td>@mvalet_officiel envoyer l'armée contre ces ch...</td>\n",
       "      <td>chrisjava2</td>\n",
       "      <td>0</td>\n",
       "    </tr>\n",
       "    <tr>\n",
       "      <th>3</th>\n",
       "      <td>2023-03-28 18:40:04+00:00</td>\n",
       "      <td>@Tiredenergetic @aboutjavad بشور \\nجور دیگر ببین</td>\n",
       "      <td>JavaD_pahnoo</td>\n",
       "      <td>0</td>\n",
       "    </tr>\n",
       "    <tr>\n",
       "      <th>4</th>\n",
       "      <td>2023-03-28 18:39:58+00:00</td>\n",
       "      <td>@WalshFreedom Will the trial be public ?</td>\n",
       "      <td>jennifer__12345</td>\n",
       "      <td>1</td>\n",
       "    </tr>\n",
       "    <tr>\n",
       "      <th>...</th>\n",
       "      <td>...</td>\n",
       "      <td>...</td>\n",
       "      <td>...</td>\n",
       "      <td>...</td>\n",
       "    </tr>\n",
       "    <tr>\n",
       "      <th>95</th>\n",
       "      <td>2023-03-28 18:21:54+00:00</td>\n",
       "      <td>@dekwan_2407 @knugroho33 Eg</td>\n",
       "      <td>Maulanajava</td>\n",
       "      <td>0</td>\n",
       "    </tr>\n",
       "    <tr>\n",
       "      <th>96</th>\n",
       "      <td>2023-03-28 18:21:18+00:00</td>\n",
       "      <td>@Howen0227 @NBCNews Try again. https://t.co/Nu...</td>\n",
       "      <td>java_junkie34</td>\n",
       "      <td>0</td>\n",
       "    </tr>\n",
       "    <tr>\n",
       "      <th>97</th>\n",
       "      <td>2023-03-28 18:20:54+00:00</td>\n",
       "      <td>@GavinNewsom There's the empathy I've come to ...</td>\n",
       "      <td>JavaTX</td>\n",
       "      <td>0</td>\n",
       "    </tr>\n",
       "    <tr>\n",
       "      <th>98</th>\n",
       "      <td>2023-03-28 18:20:45+00:00</td>\n",
       "      <td>妹とJava版で遊んでた。\\n今やってるどのワールドもジャングル始まりだったから別の場所がい...</td>\n",
       "      <td>SCtheDOH</td>\n",
       "      <td>0</td>\n",
       "    </tr>\n",
       "    <tr>\n",
       "      <th>99</th>\n",
       "      <td>2023-03-28 18:20:36+00:00</td>\n",
       "      <td>@java_junkie34 @creativelytired @Imposter_Edit...</td>\n",
       "      <td>TrippettaRaffe</td>\n",
       "      <td>1</td>\n",
       "    </tr>\n",
       "  </tbody>\n",
       "</table>\n",
       "<p>100 rows × 4 columns</p>\n",
       "</div>"
      ],
      "text/plain": [
       "                        Date  \\\n",
       "0  2023-03-28 18:40:49+00:00   \n",
       "1  2023-03-28 18:40:16+00:00   \n",
       "2  2023-03-28 18:40:15+00:00   \n",
       "3  2023-03-28 18:40:04+00:00   \n",
       "4  2023-03-28 18:39:58+00:00   \n",
       "..                       ...   \n",
       "95 2023-03-28 18:21:54+00:00   \n",
       "96 2023-03-28 18:21:18+00:00   \n",
       "97 2023-03-28 18:20:54+00:00   \n",
       "98 2023-03-28 18:20:45+00:00   \n",
       "99 2023-03-28 18:20:36+00:00   \n",
       "\n",
       "                                              Content         Username  \\\n",
       "0   Here is your Tuesday update of the best job li...          onesa10   \n",
       "1    @unspinthespina1 they are even back tracking now     WakeUpToJava   \n",
       "2   @mvalet_officiel envoyer l'armée contre ces ch...       chrisjava2   \n",
       "3    @Tiredenergetic @aboutjavad بشور \\nجور دیگر ببین     JavaD_pahnoo   \n",
       "4            @WalshFreedom Will the trial be public ?  jennifer__12345   \n",
       "..                                                ...              ...   \n",
       "95                        @dekwan_2407 @knugroho33 Eg      Maulanajava   \n",
       "96  @Howen0227 @NBCNews Try again. https://t.co/Nu...    java_junkie34   \n",
       "97  @GavinNewsom There's the empathy I've come to ...           JavaTX   \n",
       "98  妹とJava版で遊んでた。\\n今やってるどのワールドもジャングル始まりだったから別の場所がい...         SCtheDOH   \n",
       "99  @java_junkie34 @creativelytired @Imposter_Edit...   TrippettaRaffe   \n",
       "\n",
       "    Like Count  \n",
       "0            0  \n",
       "1            0  \n",
       "2            0  \n",
       "3            0  \n",
       "4            1  \n",
       "..         ...  \n",
       "95           0  \n",
       "96           0  \n",
       "97           0  \n",
       "98           0  \n",
       "99           1  \n",
       "\n",
       "[100 rows x 4 columns]"
      ]
     },
     "execution_count": 37,
     "metadata": {},
     "output_type": "execute_result"
    }
   ],
   "source": [
    "tweet_df = pd.DataFrame(tweets, columns = ['Date', 'Content', 'Username', 'Like Count'])\n",
    "\n",
    "tweet_df"
   ]
  }
 ],
 "metadata": {
  "kernelspec": {
   "display_name": "Python 3 (ipykernel)",
   "language": "python",
   "name": "python3"
  },
  "language_info": {
   "codemirror_mode": {
    "name": "ipython",
    "version": 3
   },
   "file_extension": ".py",
   "mimetype": "text/x-python",
   "name": "python",
   "nbconvert_exporter": "python",
   "pygments_lexer": "ipython3",
   "version": "3.9.13"
  }
 },
 "nbformat": 4,
 "nbformat_minor": 5
}
